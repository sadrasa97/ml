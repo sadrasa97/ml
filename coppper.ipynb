{
  "nbformat": 4,
  "nbformat_minor": 0,
  "metadata": {
    "colab": {
      "provenance": [],
      "include_colab_link": true
    },
    "kernelspec": {
      "name": "python3",
      "display_name": "Python 3"
    },
    "language_info": {
      "name": "python"
    }
  },
  "cells": [
    {
      "cell_type": "markdown",
      "metadata": {
        "id": "view-in-github",
        "colab_type": "text"
      },
      "source": [
        "<a href=\"https://colab.research.google.com/github/sadrasa97/ml/blob/main/coppper.ipynb\" target=\"_parent\"><img src=\"https://colab.research.google.com/assets/colab-badge.svg\" alt=\"Open In Colab\"/></a>"
      ]
    },
    {
      "cell_type": "code",
      "execution_count": 38,
      "metadata": {
        "id": "pN7-EU7fXsxf"
      },
      "outputs": [],
      "source": [
        "import numpy as np\n",
        "import pandas as pd\n",
        "import matplotlib.pyplot as plt\n",
        "import seaborn as sns\n",
        "import cv2\n",
        "import matplotlib.pyplot as plt\n",
        "import os\n",
        "import tensorflow as tf\n",
        "from tensorflow import keras\n",
        "from PIL import Image\n",
        "import numpy as np\n",
        "from sklearn.model_selection import train_test_split\n",
        "from tensorflow.keras.utils import normalize\n",
        "from sklearn.metrics import classification_report\n",
        "from sklearn.metrics import confusion_matrix"
      ]
    },
    {
      "cell_type": "code",
      "source": [
        "data=pd.read_excel(\"/content/copper.xlsx\")"
      ],
      "metadata": {
        "id": "Zh2UCrwLX1su"
      },
      "execution_count": 39,
      "outputs": []
    },
    {
      "cell_type": "code",
      "source": [
        "data2=pd.read_excel(\"/content/Dental.xlsx\")"
      ],
      "metadata": {
        "id": "wsEoQTgHoaVH"
      },
      "execution_count": 40,
      "outputs": []
    },
    {
      "cell_type": "code",
      "source": [
        "data.head()"
      ],
      "metadata": {
        "colab": {
          "base_uri": "https://localhost:8080/",
          "height": 305
        },
        "id": "huMbgxigYGff",
        "outputId": "67d28b79-2bf9-4615-8220-a31a7f245395"
      },
      "execution_count": 41,
      "outputs": [
        {
          "output_type": "execute_result",
          "data": {
            "text/plain": [
              "   Fluence(j/cm2)  threshold fluence(j/cm2)  wavelength(nm)  \\\n",
              "0            1.82                       1.3             800   \n",
              "1            1.70                       1.3             800   \n",
              "2            2.73                       1.3             800   \n",
              "3            2.73                       1.3             800   \n",
              "4            4.68                       1.3             800   \n",
              "\n",
              "   optical penetration depth(nm)  pulse duration(fs)   reflectivity  \\\n",
              "0                           46.8                 1000          0.96   \n",
              "1                           46.8                 1000          0.96   \n",
              "2                           46.8                 1000          0.96   \n",
              "3                           46.8                 1000          0.96   \n",
              "4                           46.8                 1000          0.96   \n",
              "\n",
              "   seperation time(ps)  Ablation rate(nm)  Simulation result  \\\n",
              "0                    0                 26                NaN   \n",
              "1                    0                 10                NaN   \n",
              "2                    0                 20                NaN   \n",
              "3                    0                 25                NaN   \n",
              "4                    0                 50                NaN   \n",
              "\n",
              "                            Doi  \n",
              "0  10.1016/j.apsusc.2020.147775  \n",
              "1  10.1016/j.apsusc.2020.147775  \n",
              "2  10.1016/j.apsusc.2020.147775  \n",
              "3  10.1016/j.apsusc.2020.147775  \n",
              "4  10.1016/j.apsusc.2020.147775  "
            ],
            "text/html": [
              "\n",
              "  <div id=\"df-d958c0d1-dc77-474c-860f-5af983d1346f\">\n",
              "    <div class=\"colab-df-container\">\n",
              "      <div>\n",
              "<style scoped>\n",
              "    .dataframe tbody tr th:only-of-type {\n",
              "        vertical-align: middle;\n",
              "    }\n",
              "\n",
              "    .dataframe tbody tr th {\n",
              "        vertical-align: top;\n",
              "    }\n",
              "\n",
              "    .dataframe thead th {\n",
              "        text-align: right;\n",
              "    }\n",
              "</style>\n",
              "<table border=\"1\" class=\"dataframe\">\n",
              "  <thead>\n",
              "    <tr style=\"text-align: right;\">\n",
              "      <th></th>\n",
              "      <th>Fluence(j/cm2)</th>\n",
              "      <th>threshold fluence(j/cm2)</th>\n",
              "      <th>wavelength(nm)</th>\n",
              "      <th>optical penetration depth(nm)</th>\n",
              "      <th>pulse duration(fs)</th>\n",
              "      <th>reflectivity</th>\n",
              "      <th>seperation time(ps)</th>\n",
              "      <th>Ablation rate(nm)</th>\n",
              "      <th>Simulation result</th>\n",
              "      <th>Doi</th>\n",
              "    </tr>\n",
              "  </thead>\n",
              "  <tbody>\n",
              "    <tr>\n",
              "      <th>0</th>\n",
              "      <td>1.82</td>\n",
              "      <td>1.3</td>\n",
              "      <td>800</td>\n",
              "      <td>46.8</td>\n",
              "      <td>1000</td>\n",
              "      <td>0.96</td>\n",
              "      <td>0</td>\n",
              "      <td>26</td>\n",
              "      <td>NaN</td>\n",
              "      <td>10.1016/j.apsusc.2020.147775</td>\n",
              "    </tr>\n",
              "    <tr>\n",
              "      <th>1</th>\n",
              "      <td>1.70</td>\n",
              "      <td>1.3</td>\n",
              "      <td>800</td>\n",
              "      <td>46.8</td>\n",
              "      <td>1000</td>\n",
              "      <td>0.96</td>\n",
              "      <td>0</td>\n",
              "      <td>10</td>\n",
              "      <td>NaN</td>\n",
              "      <td>10.1016/j.apsusc.2020.147775</td>\n",
              "    </tr>\n",
              "    <tr>\n",
              "      <th>2</th>\n",
              "      <td>2.73</td>\n",
              "      <td>1.3</td>\n",
              "      <td>800</td>\n",
              "      <td>46.8</td>\n",
              "      <td>1000</td>\n",
              "      <td>0.96</td>\n",
              "      <td>0</td>\n",
              "      <td>20</td>\n",
              "      <td>NaN</td>\n",
              "      <td>10.1016/j.apsusc.2020.147775</td>\n",
              "    </tr>\n",
              "    <tr>\n",
              "      <th>3</th>\n",
              "      <td>2.73</td>\n",
              "      <td>1.3</td>\n",
              "      <td>800</td>\n",
              "      <td>46.8</td>\n",
              "      <td>1000</td>\n",
              "      <td>0.96</td>\n",
              "      <td>0</td>\n",
              "      <td>25</td>\n",
              "      <td>NaN</td>\n",
              "      <td>10.1016/j.apsusc.2020.147775</td>\n",
              "    </tr>\n",
              "    <tr>\n",
              "      <th>4</th>\n",
              "      <td>4.68</td>\n",
              "      <td>1.3</td>\n",
              "      <td>800</td>\n",
              "      <td>46.8</td>\n",
              "      <td>1000</td>\n",
              "      <td>0.96</td>\n",
              "      <td>0</td>\n",
              "      <td>50</td>\n",
              "      <td>NaN</td>\n",
              "      <td>10.1016/j.apsusc.2020.147775</td>\n",
              "    </tr>\n",
              "  </tbody>\n",
              "</table>\n",
              "</div>\n",
              "      <button class=\"colab-df-convert\" onclick=\"convertToInteractive('df-d958c0d1-dc77-474c-860f-5af983d1346f')\"\n",
              "              title=\"Convert this dataframe to an interactive table.\"\n",
              "              style=\"display:none;\">\n",
              "        \n",
              "  <svg xmlns=\"http://www.w3.org/2000/svg\" height=\"24px\"viewBox=\"0 0 24 24\"\n",
              "       width=\"24px\">\n",
              "    <path d=\"M0 0h24v24H0V0z\" fill=\"none\"/>\n",
              "    <path d=\"M18.56 5.44l.94 2.06.94-2.06 2.06-.94-2.06-.94-.94-2.06-.94 2.06-2.06.94zm-11 1L8.5 8.5l.94-2.06 2.06-.94-2.06-.94L8.5 2.5l-.94 2.06-2.06.94zm10 10l.94 2.06.94-2.06 2.06-.94-2.06-.94-.94-2.06-.94 2.06-2.06.94z\"/><path d=\"M17.41 7.96l-1.37-1.37c-.4-.4-.92-.59-1.43-.59-.52 0-1.04.2-1.43.59L10.3 9.45l-7.72 7.72c-.78.78-.78 2.05 0 2.83L4 21.41c.39.39.9.59 1.41.59.51 0 1.02-.2 1.41-.59l7.78-7.78 2.81-2.81c.8-.78.8-2.07 0-2.86zM5.41 20L4 18.59l7.72-7.72 1.47 1.35L5.41 20z\"/>\n",
              "  </svg>\n",
              "      </button>\n",
              "      \n",
              "  <style>\n",
              "    .colab-df-container {\n",
              "      display:flex;\n",
              "      flex-wrap:wrap;\n",
              "      gap: 12px;\n",
              "    }\n",
              "\n",
              "    .colab-df-convert {\n",
              "      background-color: #E8F0FE;\n",
              "      border: none;\n",
              "      border-radius: 50%;\n",
              "      cursor: pointer;\n",
              "      display: none;\n",
              "      fill: #1967D2;\n",
              "      height: 32px;\n",
              "      padding: 0 0 0 0;\n",
              "      width: 32px;\n",
              "    }\n",
              "\n",
              "    .colab-df-convert:hover {\n",
              "      background-color: #E2EBFA;\n",
              "      box-shadow: 0px 1px 2px rgba(60, 64, 67, 0.3), 0px 1px 3px 1px rgba(60, 64, 67, 0.15);\n",
              "      fill: #174EA6;\n",
              "    }\n",
              "\n",
              "    [theme=dark] .colab-df-convert {\n",
              "      background-color: #3B4455;\n",
              "      fill: #D2E3FC;\n",
              "    }\n",
              "\n",
              "    [theme=dark] .colab-df-convert:hover {\n",
              "      background-color: #434B5C;\n",
              "      box-shadow: 0px 1px 3px 1px rgba(0, 0, 0, 0.15);\n",
              "      filter: drop-shadow(0px 1px 2px rgba(0, 0, 0, 0.3));\n",
              "      fill: #FFFFFF;\n",
              "    }\n",
              "  </style>\n",
              "\n",
              "      <script>\n",
              "        const buttonEl =\n",
              "          document.querySelector('#df-d958c0d1-dc77-474c-860f-5af983d1346f button.colab-df-convert');\n",
              "        buttonEl.style.display =\n",
              "          google.colab.kernel.accessAllowed ? 'block' : 'none';\n",
              "\n",
              "        async function convertToInteractive(key) {\n",
              "          const element = document.querySelector('#df-d958c0d1-dc77-474c-860f-5af983d1346f');\n",
              "          const dataTable =\n",
              "            await google.colab.kernel.invokeFunction('convertToInteractive',\n",
              "                                                     [key], {});\n",
              "          if (!dataTable) return;\n",
              "\n",
              "          const docLinkHtml = 'Like what you see? Visit the ' +\n",
              "            '<a target=\"_blank\" href=https://colab.research.google.com/notebooks/data_table.ipynb>data table notebook</a>'\n",
              "            + ' to learn more about interactive tables.';\n",
              "          element.innerHTML = '';\n",
              "          dataTable['output_type'] = 'display_data';\n",
              "          await google.colab.output.renderOutput(dataTable, element);\n",
              "          const docLink = document.createElement('div');\n",
              "          docLink.innerHTML = docLinkHtml;\n",
              "          element.appendChild(docLink);\n",
              "        }\n",
              "      </script>\n",
              "    </div>\n",
              "  </div>\n",
              "  "
            ]
          },
          "metadata": {},
          "execution_count": 41
        }
      ]
    },
    {
      "cell_type": "code",
      "source": [
        "data.drop(['Doi'],inplace=True,axis=1)\n",
        "data.drop(['Simulation result'],inplace=True,axis=1)\n",
        "data.drop(['seperation time(ps)'],inplace=True,axis=1)\n",
        "#data=data.drop('Doi',axis=True)"
      ],
      "metadata": {
        "id": "MGrOoReHYJcX"
      },
      "execution_count": 42,
      "outputs": []
    },
    {
      "cell_type": "code",
      "source": [
        "#data=data.replace({'e':0,'d':1})"
      ],
      "metadata": {
        "id": "xa1nJE8kZXex"
      },
      "execution_count": 43,
      "outputs": []
    },
    {
      "cell_type": "code",
      "source": [
        "data.head()"
      ],
      "metadata": {
        "colab": {
          "base_uri": "https://localhost:8080/",
          "height": 268
        },
        "id": "BjRR6g9IYcJg",
        "outputId": "1c494256-3333-4124-c69f-88e6428f7e23"
      },
      "execution_count": 44,
      "outputs": [
        {
          "output_type": "execute_result",
          "data": {
            "text/plain": [
              "   Fluence(j/cm2)  threshold fluence(j/cm2)  wavelength(nm)  \\\n",
              "0            1.82                       1.3             800   \n",
              "1            1.70                       1.3             800   \n",
              "2            2.73                       1.3             800   \n",
              "3            2.73                       1.3             800   \n",
              "4            4.68                       1.3             800   \n",
              "\n",
              "   optical penetration depth(nm)  pulse duration(fs)   reflectivity  \\\n",
              "0                           46.8                 1000          0.96   \n",
              "1                           46.8                 1000          0.96   \n",
              "2                           46.8                 1000          0.96   \n",
              "3                           46.8                 1000          0.96   \n",
              "4                           46.8                 1000          0.96   \n",
              "\n",
              "   Ablation rate(nm)  \n",
              "0                 26  \n",
              "1                 10  \n",
              "2                 20  \n",
              "3                 25  \n",
              "4                 50  "
            ],
            "text/html": [
              "\n",
              "  <div id=\"df-d6693ee1-78e2-4ef1-8bd7-4147c158ff64\">\n",
              "    <div class=\"colab-df-container\">\n",
              "      <div>\n",
              "<style scoped>\n",
              "    .dataframe tbody tr th:only-of-type {\n",
              "        vertical-align: middle;\n",
              "    }\n",
              "\n",
              "    .dataframe tbody tr th {\n",
              "        vertical-align: top;\n",
              "    }\n",
              "\n",
              "    .dataframe thead th {\n",
              "        text-align: right;\n",
              "    }\n",
              "</style>\n",
              "<table border=\"1\" class=\"dataframe\">\n",
              "  <thead>\n",
              "    <tr style=\"text-align: right;\">\n",
              "      <th></th>\n",
              "      <th>Fluence(j/cm2)</th>\n",
              "      <th>threshold fluence(j/cm2)</th>\n",
              "      <th>wavelength(nm)</th>\n",
              "      <th>optical penetration depth(nm)</th>\n",
              "      <th>pulse duration(fs)</th>\n",
              "      <th>reflectivity</th>\n",
              "      <th>Ablation rate(nm)</th>\n",
              "    </tr>\n",
              "  </thead>\n",
              "  <tbody>\n",
              "    <tr>\n",
              "      <th>0</th>\n",
              "      <td>1.82</td>\n",
              "      <td>1.3</td>\n",
              "      <td>800</td>\n",
              "      <td>46.8</td>\n",
              "      <td>1000</td>\n",
              "      <td>0.96</td>\n",
              "      <td>26</td>\n",
              "    </tr>\n",
              "    <tr>\n",
              "      <th>1</th>\n",
              "      <td>1.70</td>\n",
              "      <td>1.3</td>\n",
              "      <td>800</td>\n",
              "      <td>46.8</td>\n",
              "      <td>1000</td>\n",
              "      <td>0.96</td>\n",
              "      <td>10</td>\n",
              "    </tr>\n",
              "    <tr>\n",
              "      <th>2</th>\n",
              "      <td>2.73</td>\n",
              "      <td>1.3</td>\n",
              "      <td>800</td>\n",
              "      <td>46.8</td>\n",
              "      <td>1000</td>\n",
              "      <td>0.96</td>\n",
              "      <td>20</td>\n",
              "    </tr>\n",
              "    <tr>\n",
              "      <th>3</th>\n",
              "      <td>2.73</td>\n",
              "      <td>1.3</td>\n",
              "      <td>800</td>\n",
              "      <td>46.8</td>\n",
              "      <td>1000</td>\n",
              "      <td>0.96</td>\n",
              "      <td>25</td>\n",
              "    </tr>\n",
              "    <tr>\n",
              "      <th>4</th>\n",
              "      <td>4.68</td>\n",
              "      <td>1.3</td>\n",
              "      <td>800</td>\n",
              "      <td>46.8</td>\n",
              "      <td>1000</td>\n",
              "      <td>0.96</td>\n",
              "      <td>50</td>\n",
              "    </tr>\n",
              "  </tbody>\n",
              "</table>\n",
              "</div>\n",
              "      <button class=\"colab-df-convert\" onclick=\"convertToInteractive('df-d6693ee1-78e2-4ef1-8bd7-4147c158ff64')\"\n",
              "              title=\"Convert this dataframe to an interactive table.\"\n",
              "              style=\"display:none;\">\n",
              "        \n",
              "  <svg xmlns=\"http://www.w3.org/2000/svg\" height=\"24px\"viewBox=\"0 0 24 24\"\n",
              "       width=\"24px\">\n",
              "    <path d=\"M0 0h24v24H0V0z\" fill=\"none\"/>\n",
              "    <path d=\"M18.56 5.44l.94 2.06.94-2.06 2.06-.94-2.06-.94-.94-2.06-.94 2.06-2.06.94zm-11 1L8.5 8.5l.94-2.06 2.06-.94-2.06-.94L8.5 2.5l-.94 2.06-2.06.94zm10 10l.94 2.06.94-2.06 2.06-.94-2.06-.94-.94-2.06-.94 2.06-2.06.94z\"/><path d=\"M17.41 7.96l-1.37-1.37c-.4-.4-.92-.59-1.43-.59-.52 0-1.04.2-1.43.59L10.3 9.45l-7.72 7.72c-.78.78-.78 2.05 0 2.83L4 21.41c.39.39.9.59 1.41.59.51 0 1.02-.2 1.41-.59l7.78-7.78 2.81-2.81c.8-.78.8-2.07 0-2.86zM5.41 20L4 18.59l7.72-7.72 1.47 1.35L5.41 20z\"/>\n",
              "  </svg>\n",
              "      </button>\n",
              "      \n",
              "  <style>\n",
              "    .colab-df-container {\n",
              "      display:flex;\n",
              "      flex-wrap:wrap;\n",
              "      gap: 12px;\n",
              "    }\n",
              "\n",
              "    .colab-df-convert {\n",
              "      background-color: #E8F0FE;\n",
              "      border: none;\n",
              "      border-radius: 50%;\n",
              "      cursor: pointer;\n",
              "      display: none;\n",
              "      fill: #1967D2;\n",
              "      height: 32px;\n",
              "      padding: 0 0 0 0;\n",
              "      width: 32px;\n",
              "    }\n",
              "\n",
              "    .colab-df-convert:hover {\n",
              "      background-color: #E2EBFA;\n",
              "      box-shadow: 0px 1px 2px rgba(60, 64, 67, 0.3), 0px 1px 3px 1px rgba(60, 64, 67, 0.15);\n",
              "      fill: #174EA6;\n",
              "    }\n",
              "\n",
              "    [theme=dark] .colab-df-convert {\n",
              "      background-color: #3B4455;\n",
              "      fill: #D2E3FC;\n",
              "    }\n",
              "\n",
              "    [theme=dark] .colab-df-convert:hover {\n",
              "      background-color: #434B5C;\n",
              "      box-shadow: 0px 1px 3px 1px rgba(0, 0, 0, 0.15);\n",
              "      filter: drop-shadow(0px 1px 2px rgba(0, 0, 0, 0.3));\n",
              "      fill: #FFFFFF;\n",
              "    }\n",
              "  </style>\n",
              "\n",
              "      <script>\n",
              "        const buttonEl =\n",
              "          document.querySelector('#df-d6693ee1-78e2-4ef1-8bd7-4147c158ff64 button.colab-df-convert');\n",
              "        buttonEl.style.display =\n",
              "          google.colab.kernel.accessAllowed ? 'block' : 'none';\n",
              "\n",
              "        async function convertToInteractive(key) {\n",
              "          const element = document.querySelector('#df-d6693ee1-78e2-4ef1-8bd7-4147c158ff64');\n",
              "          const dataTable =\n",
              "            await google.colab.kernel.invokeFunction('convertToInteractive',\n",
              "                                                     [key], {});\n",
              "          if (!dataTable) return;\n",
              "\n",
              "          const docLinkHtml = 'Like what you see? Visit the ' +\n",
              "            '<a target=\"_blank\" href=https://colab.research.google.com/notebooks/data_table.ipynb>data table notebook</a>'\n",
              "            + ' to learn more about interactive tables.';\n",
              "          element.innerHTML = '';\n",
              "          dataTable['output_type'] = 'display_data';\n",
              "          await google.colab.output.renderOutput(dataTable, element);\n",
              "          const docLink = document.createElement('div');\n",
              "          docLink.innerHTML = docLinkHtml;\n",
              "          element.appendChild(docLink);\n",
              "        }\n",
              "      </script>\n",
              "    </div>\n",
              "  </div>\n",
              "  "
            ]
          },
          "metadata": {},
          "execution_count": 44
        }
      ]
    },
    {
      "cell_type": "code",
      "source": [
        "#data = data.sample(frac = 1)"
      ],
      "metadata": {
        "id": "nu5yKB3es0fZ"
      },
      "execution_count": 45,
      "outputs": []
    },
    {
      "cell_type": "code",
      "source": [
        "#data.to_excel(\"dentalout.xlsx\")"
      ],
      "metadata": {
        "id": "ontwI4ivtWxZ"
      },
      "execution_count": 46,
      "outputs": []
    },
    {
      "cell_type": "code",
      "source": [
        "#data.head()"
      ],
      "metadata": {
        "id": "7ce-YKios8-R"
      },
      "execution_count": 47,
      "outputs": []
    },
    {
      "cell_type": "code",
      "source": [
        "#data=data[data.Tissues>0]"
      ],
      "metadata": {
        "id": "hQTAnF6hUWOc"
      },
      "execution_count": 48,
      "outputs": []
    },
    {
      "cell_type": "code",
      "source": [
        " "
      ],
      "metadata": {
        "id": "xjm_yfGqYxvY"
      },
      "execution_count": 48,
      "outputs": []
    },
    {
      "cell_type": "code",
      "source": [
        "y=data['Ablation rate(nm)']"
      ],
      "metadata": {
        "id": "oUQ0dKoFYfav"
      },
      "execution_count": 49,
      "outputs": []
    },
    {
      "cell_type": "code",
      "source": [
        "data.head()"
      ],
      "metadata": {
        "colab": {
          "base_uri": "https://localhost:8080/",
          "height": 268
        },
        "id": "IDKkN0nMYw6i",
        "outputId": "3ad06b88-e7de-4ab4-c727-3e3a4b389ca1"
      },
      "execution_count": 50,
      "outputs": [
        {
          "output_type": "execute_result",
          "data": {
            "text/plain": [
              "   Fluence(j/cm2)  threshold fluence(j/cm2)  wavelength(nm)  \\\n",
              "0            1.82                       1.3             800   \n",
              "1            1.70                       1.3             800   \n",
              "2            2.73                       1.3             800   \n",
              "3            2.73                       1.3             800   \n",
              "4            4.68                       1.3             800   \n",
              "\n",
              "   optical penetration depth(nm)  pulse duration(fs)   reflectivity  \\\n",
              "0                           46.8                 1000          0.96   \n",
              "1                           46.8                 1000          0.96   \n",
              "2                           46.8                 1000          0.96   \n",
              "3                           46.8                 1000          0.96   \n",
              "4                           46.8                 1000          0.96   \n",
              "\n",
              "   Ablation rate(nm)  \n",
              "0                 26  \n",
              "1                 10  \n",
              "2                 20  \n",
              "3                 25  \n",
              "4                 50  "
            ],
            "text/html": [
              "\n",
              "  <div id=\"df-11aac9c2-9af9-40f7-aa8e-c623ef4f5177\">\n",
              "    <div class=\"colab-df-container\">\n",
              "      <div>\n",
              "<style scoped>\n",
              "    .dataframe tbody tr th:only-of-type {\n",
              "        vertical-align: middle;\n",
              "    }\n",
              "\n",
              "    .dataframe tbody tr th {\n",
              "        vertical-align: top;\n",
              "    }\n",
              "\n",
              "    .dataframe thead th {\n",
              "        text-align: right;\n",
              "    }\n",
              "</style>\n",
              "<table border=\"1\" class=\"dataframe\">\n",
              "  <thead>\n",
              "    <tr style=\"text-align: right;\">\n",
              "      <th></th>\n",
              "      <th>Fluence(j/cm2)</th>\n",
              "      <th>threshold fluence(j/cm2)</th>\n",
              "      <th>wavelength(nm)</th>\n",
              "      <th>optical penetration depth(nm)</th>\n",
              "      <th>pulse duration(fs)</th>\n",
              "      <th>reflectivity</th>\n",
              "      <th>Ablation rate(nm)</th>\n",
              "    </tr>\n",
              "  </thead>\n",
              "  <tbody>\n",
              "    <tr>\n",
              "      <th>0</th>\n",
              "      <td>1.82</td>\n",
              "      <td>1.3</td>\n",
              "      <td>800</td>\n",
              "      <td>46.8</td>\n",
              "      <td>1000</td>\n",
              "      <td>0.96</td>\n",
              "      <td>26</td>\n",
              "    </tr>\n",
              "    <tr>\n",
              "      <th>1</th>\n",
              "      <td>1.70</td>\n",
              "      <td>1.3</td>\n",
              "      <td>800</td>\n",
              "      <td>46.8</td>\n",
              "      <td>1000</td>\n",
              "      <td>0.96</td>\n",
              "      <td>10</td>\n",
              "    </tr>\n",
              "    <tr>\n",
              "      <th>2</th>\n",
              "      <td>2.73</td>\n",
              "      <td>1.3</td>\n",
              "      <td>800</td>\n",
              "      <td>46.8</td>\n",
              "      <td>1000</td>\n",
              "      <td>0.96</td>\n",
              "      <td>20</td>\n",
              "    </tr>\n",
              "    <tr>\n",
              "      <th>3</th>\n",
              "      <td>2.73</td>\n",
              "      <td>1.3</td>\n",
              "      <td>800</td>\n",
              "      <td>46.8</td>\n",
              "      <td>1000</td>\n",
              "      <td>0.96</td>\n",
              "      <td>25</td>\n",
              "    </tr>\n",
              "    <tr>\n",
              "      <th>4</th>\n",
              "      <td>4.68</td>\n",
              "      <td>1.3</td>\n",
              "      <td>800</td>\n",
              "      <td>46.8</td>\n",
              "      <td>1000</td>\n",
              "      <td>0.96</td>\n",
              "      <td>50</td>\n",
              "    </tr>\n",
              "  </tbody>\n",
              "</table>\n",
              "</div>\n",
              "      <button class=\"colab-df-convert\" onclick=\"convertToInteractive('df-11aac9c2-9af9-40f7-aa8e-c623ef4f5177')\"\n",
              "              title=\"Convert this dataframe to an interactive table.\"\n",
              "              style=\"display:none;\">\n",
              "        \n",
              "  <svg xmlns=\"http://www.w3.org/2000/svg\" height=\"24px\"viewBox=\"0 0 24 24\"\n",
              "       width=\"24px\">\n",
              "    <path d=\"M0 0h24v24H0V0z\" fill=\"none\"/>\n",
              "    <path d=\"M18.56 5.44l.94 2.06.94-2.06 2.06-.94-2.06-.94-.94-2.06-.94 2.06-2.06.94zm-11 1L8.5 8.5l.94-2.06 2.06-.94-2.06-.94L8.5 2.5l-.94 2.06-2.06.94zm10 10l.94 2.06.94-2.06 2.06-.94-2.06-.94-.94-2.06-.94 2.06-2.06.94z\"/><path d=\"M17.41 7.96l-1.37-1.37c-.4-.4-.92-.59-1.43-.59-.52 0-1.04.2-1.43.59L10.3 9.45l-7.72 7.72c-.78.78-.78 2.05 0 2.83L4 21.41c.39.39.9.59 1.41.59.51 0 1.02-.2 1.41-.59l7.78-7.78 2.81-2.81c.8-.78.8-2.07 0-2.86zM5.41 20L4 18.59l7.72-7.72 1.47 1.35L5.41 20z\"/>\n",
              "  </svg>\n",
              "      </button>\n",
              "      \n",
              "  <style>\n",
              "    .colab-df-container {\n",
              "      display:flex;\n",
              "      flex-wrap:wrap;\n",
              "      gap: 12px;\n",
              "    }\n",
              "\n",
              "    .colab-df-convert {\n",
              "      background-color: #E8F0FE;\n",
              "      border: none;\n",
              "      border-radius: 50%;\n",
              "      cursor: pointer;\n",
              "      display: none;\n",
              "      fill: #1967D2;\n",
              "      height: 32px;\n",
              "      padding: 0 0 0 0;\n",
              "      width: 32px;\n",
              "    }\n",
              "\n",
              "    .colab-df-convert:hover {\n",
              "      background-color: #E2EBFA;\n",
              "      box-shadow: 0px 1px 2px rgba(60, 64, 67, 0.3), 0px 1px 3px 1px rgba(60, 64, 67, 0.15);\n",
              "      fill: #174EA6;\n",
              "    }\n",
              "\n",
              "    [theme=dark] .colab-df-convert {\n",
              "      background-color: #3B4455;\n",
              "      fill: #D2E3FC;\n",
              "    }\n",
              "\n",
              "    [theme=dark] .colab-df-convert:hover {\n",
              "      background-color: #434B5C;\n",
              "      box-shadow: 0px 1px 3px 1px rgba(0, 0, 0, 0.15);\n",
              "      filter: drop-shadow(0px 1px 2px rgba(0, 0, 0, 0.3));\n",
              "      fill: #FFFFFF;\n",
              "    }\n",
              "  </style>\n",
              "\n",
              "      <script>\n",
              "        const buttonEl =\n",
              "          document.querySelector('#df-11aac9c2-9af9-40f7-aa8e-c623ef4f5177 button.colab-df-convert');\n",
              "        buttonEl.style.display =\n",
              "          google.colab.kernel.accessAllowed ? 'block' : 'none';\n",
              "\n",
              "        async function convertToInteractive(key) {\n",
              "          const element = document.querySelector('#df-11aac9c2-9af9-40f7-aa8e-c623ef4f5177');\n",
              "          const dataTable =\n",
              "            await google.colab.kernel.invokeFunction('convertToInteractive',\n",
              "                                                     [key], {});\n",
              "          if (!dataTable) return;\n",
              "\n",
              "          const docLinkHtml = 'Like what you see? Visit the ' +\n",
              "            '<a target=\"_blank\" href=https://colab.research.google.com/notebooks/data_table.ipynb>data table notebook</a>'\n",
              "            + ' to learn more about interactive tables.';\n",
              "          element.innerHTML = '';\n",
              "          dataTable['output_type'] = 'display_data';\n",
              "          await google.colab.output.renderOutput(dataTable, element);\n",
              "          const docLink = document.createElement('div');\n",
              "          docLink.innerHTML = docLinkHtml;\n",
              "          element.appendChild(docLink);\n",
              "        }\n",
              "      </script>\n",
              "    </div>\n",
              "  </div>\n",
              "  "
            ]
          },
          "metadata": {},
          "execution_count": 50
        }
      ]
    },
    {
      "cell_type": "code",
      "source": [
        "x=data.iloc[:,0:6]"
      ],
      "metadata": {
        "id": "T7v9AiwGYlAt"
      },
      "execution_count": 51,
      "outputs": []
    },
    {
      "cell_type": "code",
      "source": [
        "x.head()"
      ],
      "metadata": {
        "colab": {
          "base_uri": "https://localhost:8080/",
          "height": 268
        },
        "id": "puKm9WPTYsws",
        "outputId": "0070607c-fa75-4566-e87d-d1dfa64b2f42"
      },
      "execution_count": 52,
      "outputs": [
        {
          "output_type": "execute_result",
          "data": {
            "text/plain": [
              "   Fluence(j/cm2)  threshold fluence(j/cm2)  wavelength(nm)  \\\n",
              "0            1.82                       1.3             800   \n",
              "1            1.70                       1.3             800   \n",
              "2            2.73                       1.3             800   \n",
              "3            2.73                       1.3             800   \n",
              "4            4.68                       1.3             800   \n",
              "\n",
              "   optical penetration depth(nm)  pulse duration(fs)   reflectivity  \n",
              "0                           46.8                 1000          0.96  \n",
              "1                           46.8                 1000          0.96  \n",
              "2                           46.8                 1000          0.96  \n",
              "3                           46.8                 1000          0.96  \n",
              "4                           46.8                 1000          0.96  "
            ],
            "text/html": [
              "\n",
              "  <div id=\"df-65ef0293-6e4a-44e2-97fe-b67aee3a9030\">\n",
              "    <div class=\"colab-df-container\">\n",
              "      <div>\n",
              "<style scoped>\n",
              "    .dataframe tbody tr th:only-of-type {\n",
              "        vertical-align: middle;\n",
              "    }\n",
              "\n",
              "    .dataframe tbody tr th {\n",
              "        vertical-align: top;\n",
              "    }\n",
              "\n",
              "    .dataframe thead th {\n",
              "        text-align: right;\n",
              "    }\n",
              "</style>\n",
              "<table border=\"1\" class=\"dataframe\">\n",
              "  <thead>\n",
              "    <tr style=\"text-align: right;\">\n",
              "      <th></th>\n",
              "      <th>Fluence(j/cm2)</th>\n",
              "      <th>threshold fluence(j/cm2)</th>\n",
              "      <th>wavelength(nm)</th>\n",
              "      <th>optical penetration depth(nm)</th>\n",
              "      <th>pulse duration(fs)</th>\n",
              "      <th>reflectivity</th>\n",
              "    </tr>\n",
              "  </thead>\n",
              "  <tbody>\n",
              "    <tr>\n",
              "      <th>0</th>\n",
              "      <td>1.82</td>\n",
              "      <td>1.3</td>\n",
              "      <td>800</td>\n",
              "      <td>46.8</td>\n",
              "      <td>1000</td>\n",
              "      <td>0.96</td>\n",
              "    </tr>\n",
              "    <tr>\n",
              "      <th>1</th>\n",
              "      <td>1.70</td>\n",
              "      <td>1.3</td>\n",
              "      <td>800</td>\n",
              "      <td>46.8</td>\n",
              "      <td>1000</td>\n",
              "      <td>0.96</td>\n",
              "    </tr>\n",
              "    <tr>\n",
              "      <th>2</th>\n",
              "      <td>2.73</td>\n",
              "      <td>1.3</td>\n",
              "      <td>800</td>\n",
              "      <td>46.8</td>\n",
              "      <td>1000</td>\n",
              "      <td>0.96</td>\n",
              "    </tr>\n",
              "    <tr>\n",
              "      <th>3</th>\n",
              "      <td>2.73</td>\n",
              "      <td>1.3</td>\n",
              "      <td>800</td>\n",
              "      <td>46.8</td>\n",
              "      <td>1000</td>\n",
              "      <td>0.96</td>\n",
              "    </tr>\n",
              "    <tr>\n",
              "      <th>4</th>\n",
              "      <td>4.68</td>\n",
              "      <td>1.3</td>\n",
              "      <td>800</td>\n",
              "      <td>46.8</td>\n",
              "      <td>1000</td>\n",
              "      <td>0.96</td>\n",
              "    </tr>\n",
              "  </tbody>\n",
              "</table>\n",
              "</div>\n",
              "      <button class=\"colab-df-convert\" onclick=\"convertToInteractive('df-65ef0293-6e4a-44e2-97fe-b67aee3a9030')\"\n",
              "              title=\"Convert this dataframe to an interactive table.\"\n",
              "              style=\"display:none;\">\n",
              "        \n",
              "  <svg xmlns=\"http://www.w3.org/2000/svg\" height=\"24px\"viewBox=\"0 0 24 24\"\n",
              "       width=\"24px\">\n",
              "    <path d=\"M0 0h24v24H0V0z\" fill=\"none\"/>\n",
              "    <path d=\"M18.56 5.44l.94 2.06.94-2.06 2.06-.94-2.06-.94-.94-2.06-.94 2.06-2.06.94zm-11 1L8.5 8.5l.94-2.06 2.06-.94-2.06-.94L8.5 2.5l-.94 2.06-2.06.94zm10 10l.94 2.06.94-2.06 2.06-.94-2.06-.94-.94-2.06-.94 2.06-2.06.94z\"/><path d=\"M17.41 7.96l-1.37-1.37c-.4-.4-.92-.59-1.43-.59-.52 0-1.04.2-1.43.59L10.3 9.45l-7.72 7.72c-.78.78-.78 2.05 0 2.83L4 21.41c.39.39.9.59 1.41.59.51 0 1.02-.2 1.41-.59l7.78-7.78 2.81-2.81c.8-.78.8-2.07 0-2.86zM5.41 20L4 18.59l7.72-7.72 1.47 1.35L5.41 20z\"/>\n",
              "  </svg>\n",
              "      </button>\n",
              "      \n",
              "  <style>\n",
              "    .colab-df-container {\n",
              "      display:flex;\n",
              "      flex-wrap:wrap;\n",
              "      gap: 12px;\n",
              "    }\n",
              "\n",
              "    .colab-df-convert {\n",
              "      background-color: #E8F0FE;\n",
              "      border: none;\n",
              "      border-radius: 50%;\n",
              "      cursor: pointer;\n",
              "      display: none;\n",
              "      fill: #1967D2;\n",
              "      height: 32px;\n",
              "      padding: 0 0 0 0;\n",
              "      width: 32px;\n",
              "    }\n",
              "\n",
              "    .colab-df-convert:hover {\n",
              "      background-color: #E2EBFA;\n",
              "      box-shadow: 0px 1px 2px rgba(60, 64, 67, 0.3), 0px 1px 3px 1px rgba(60, 64, 67, 0.15);\n",
              "      fill: #174EA6;\n",
              "    }\n",
              "\n",
              "    [theme=dark] .colab-df-convert {\n",
              "      background-color: #3B4455;\n",
              "      fill: #D2E3FC;\n",
              "    }\n",
              "\n",
              "    [theme=dark] .colab-df-convert:hover {\n",
              "      background-color: #434B5C;\n",
              "      box-shadow: 0px 1px 3px 1px rgba(0, 0, 0, 0.15);\n",
              "      filter: drop-shadow(0px 1px 2px rgba(0, 0, 0, 0.3));\n",
              "      fill: #FFFFFF;\n",
              "    }\n",
              "  </style>\n",
              "\n",
              "      <script>\n",
              "        const buttonEl =\n",
              "          document.querySelector('#df-65ef0293-6e4a-44e2-97fe-b67aee3a9030 button.colab-df-convert');\n",
              "        buttonEl.style.display =\n",
              "          google.colab.kernel.accessAllowed ? 'block' : 'none';\n",
              "\n",
              "        async function convertToInteractive(key) {\n",
              "          const element = document.querySelector('#df-65ef0293-6e4a-44e2-97fe-b67aee3a9030');\n",
              "          const dataTable =\n",
              "            await google.colab.kernel.invokeFunction('convertToInteractive',\n",
              "                                                     [key], {});\n",
              "          if (!dataTable) return;\n",
              "\n",
              "          const docLinkHtml = 'Like what you see? Visit the ' +\n",
              "            '<a target=\"_blank\" href=https://colab.research.google.com/notebooks/data_table.ipynb>data table notebook</a>'\n",
              "            + ' to learn more about interactive tables.';\n",
              "          element.innerHTML = '';\n",
              "          dataTable['output_type'] = 'display_data';\n",
              "          await google.colab.output.renderOutput(dataTable, element);\n",
              "          const docLink = document.createElement('div');\n",
              "          docLink.innerHTML = docLinkHtml;\n",
              "          element.appendChild(docLink);\n",
              "        }\n",
              "      </script>\n",
              "    </div>\n",
              "  </div>\n",
              "  "
            ]
          },
          "metadata": {},
          "execution_count": 52
        }
      ]
    },
    {
      "cell_type": "code",
      "source": [
        "from sklearn import preprocessing\n",
        "lab_enc = preprocessing.LabelEncoder()\n",
        "y = lab_enc.fit_transform(y)"
      ],
      "metadata": {
        "id": "bXAzMdkhZh3Q"
      },
      "execution_count": 53,
      "outputs": []
    },
    {
      "cell_type": "code",
      "source": [
        "from sklearn.preprocessing import MinMaxScaler\n",
        "scaler = MinMaxScaler(feature_range=(0,1))\n",
        "x = scaler.fit_transform(x)"
      ],
      "metadata": {
        "id": "jfitlbjTYwPI"
      },
      "execution_count": 54,
      "outputs": []
    },
    {
      "cell_type": "code",
      "source": [
        "x_train, x_test, y_train, y_test = train_test_split(x,y, test_size = 0.2, random_state = 42)"
      ],
      "metadata": {
        "id": "jOTX0PnzcjWo"
      },
      "execution_count": 55,
      "outputs": []
    },
    {
      "cell_type": "code",
      "source": [
        "f,ax = plt.subplots(figsize=(10, 10))\n",
        "cor = data.corr() #Calculate the correlation of the above variables\n",
        "sns.heatmap(cor,annot=True ,cmap=\"mako\") \n",
        "plt.show()"
      ],
      "metadata": {
        "colab": {
          "base_uri": "https://localhost:8080/",
          "height": 994
        },
        "id": "hWqp6VzocjRI",
        "outputId": "3ea14826-6590-4ab7-9d9f-739ef9e46131"
      },
      "execution_count": 56,
      "outputs": [
        {
          "output_type": "display_data",
          "data": {
            "text/plain": [
              "<Figure size 1000x1000 with 2 Axes>"
            ],
            "image/png": "[encoded data removed]"
          },
          "metadata": {}
        }
      ]
    },
    {
      "cell_type": "code",
      "source": [
        "method_names=[] \n",
        "method_scores=[]"
      ],
      "metadata": {
        "id": "RaV-v89YUKwl"
      },
      "execution_count": 57,
      "outputs": []
    },
    {
      "cell_type": "code",
      "source": [
        "from sklearn.linear_model import LogisticRegression\n",
        "log_reg = LogisticRegression()#\n",
        "log_reg.fit(x_train, y_train) #Fitting\n",
        "print(\"Logistic Regression Classification Test Accuracy {}\".format(log_reg.score(x_test,y_test)))\n",
        "method_names.append(\"Logistic Reg.\")\n",
        "method_scores.append(log_reg.score(x_test,y_test))\n",
        "y_pred = log_reg.predict(x_test)"
      ],
      "metadata": {
        "id": "Yv6PKglxcpZX",
        "colab": {
          "base_uri": "https://localhost:8080/"
        },
        "outputId": "0aa4db83-6fe0-4638-91b6-4d668d9936da"
      },
      "execution_count": 58,
      "outputs": [
        {
          "output_type": "stream",
          "name": "stdout",
          "text": [
            "Logistic Regression Classification Test Accuracy 0.2953020134228188\n"
          ]
        }
      ]
    },
    {
      "cell_type": "code",
      "source": [
        "from sklearn.svm import SVC\n",
        "svm = SVC(random_state=42)\n",
        "svm.fit(x_train,y_train)\n",
        "print(\"SVM Classification Score is: {}\".format(svm.score(x_test,y_test)))\n",
        "method_names.append(\"SVM\")\n",
        "method_scores.append(svm.score(x_test,y_test))\n",
        "y_pred = svm.predict(x_test)\n",
        "print(svm.score(x_train,y_train))"
      ],
      "metadata": {
        "colab": {
          "base_uri": "https://localhost:8080/"
        },
        "id": "HCgatO0ccsoj",
        "outputId": "1b1efa46-ee21-498d-fab7-36e934abbacc"
      },
      "execution_count": 59,
      "outputs": [
        {
          "output_type": "stream",
          "name": "stdout",
          "text": [
            "SVM Classification Score is: 0.40939597315436244\n",
            "0.38823529411764707\n"
          ]
        }
      ]
    },
    {
      "cell_type": "code",
      "source": [
        "from sklearn.linear_model import LinearRegression\n",
        "model = LinearRegression()\n",
        "model.fit(x_train,y_train)\n",
        "print(\"linear reg: {}\".format(model.score(x_test,y_test)))\n",
        "method_names.append(\"Linear regression\")\n",
        "method_scores.append(model.score(x_test,y_test))\n",
        "y_pred = model.predict(x_test)"
      ],
      "metadata": {
        "colab": {
          "base_uri": "https://localhost:8080/"
        },
        "id": "sQON42Gbm0OY",
        "outputId": "8d70c705-3f39-4363-e29f-8b4fbb80f398"
      },
      "execution_count": 60,
      "outputs": [
        {
          "output_type": "stream",
          "name": "stdout",
          "text": [
            "linear reg: 0.8457186545372388\n"
          ]
        }
      ]
    },
    {
      "cell_type": "code",
      "source": [
        "plt.figure(figsize=(8,8))\n",
        "plt.ylim([0,1])\n",
        "plt.bar(method_names,method_scores,width=0.7,color='navy')\n",
        "plt.xlabel('Method Name')\n",
        "plt.ylabel('Method Score')\n",
        "plt.grid(color = 'black', linestyle = '-', linewidth = 0.5)\n",
        "plt.show()"
      ],
      "metadata": {
        "colab": {
          "base_uri": "https://localhost:8080/",
          "height": 701
        },
        "id": "E7_s30bRTwlm",
        "outputId": "af41cf38-10de-492e-d223-2a4fdeb98bf7"
      },
      "execution_count": 61,
      "outputs": [
        {
          "output_type": "display_data",
          "data": {
            "text/plain": [
              "<Figure size 800x800 with 1 Axes>"
            ],
            "image/png": "[encoded data removed]"
          },
          "metadata": {}
        }
      ]
    },
    {
      "cell_type": "code",
      "source": [
        "#ANN\n",
        "import tensorflow.keras\n",
        "from tensorflow.keras.models import Sequential\n",
        "from tensorflow.keras.layers import Dense\n",
        "model=Sequential()\n",
        "model.add(Dense(1024,activation='relu',input_dim=x_train.shape[1]))\n",
        "model.add(Dense(1024,activation='relu'))\n",
        "model.add(Dense(512,activation='relu'))\n",
        "model.add(Dense(512,activation='relu'))\n",
        "model.add(Dense(512,activation='relu'))\n",
        "model.add(Dense(256,activation='relu'))\n",
        "model.add(Dense(1,activation='linear'))\n",
        "model.compile(optimizer='adam',loss='mean_squared_error')\n",
        "history=model.fit(x_train,y_train,epochs=120,validation_split=0.2)"
      ],
      "metadata": {
        "colab": {
          "base_uri": "https://localhost:8080/"
        },
        "id": "SqhCl_dWhaVD",
        "outputId": "38bca3ac-3ea7-4dd8-f50b-45576e7a79f0"
      },
      "execution_count": 62,
      "outputs": [
        {
          "output_type": "stream",
          "name": "stdout",
          "text": [
            "Epoch 1/120\n",
            "15/15 [==============================] - 2s 50ms/step - loss: 119.6534 - val_loss: 34.5920\n",
            "Epoch 2/120\n",
            "15/15 [==============================] - 1s 42ms/step - loss: 14.0168 - val_loss: 7.4471\n",
            "Epoch 3/120\n",
            "15/15 [==============================] - 1s 64ms/step - loss: 6.6404 - val_loss: 5.8922\n",
            "Epoch 4/120\n",
            "15/15 [==============================] - 1s 63ms/step - loss: 5.6383 - val_loss: 3.8008\n",
            "Epoch 5/120\n",
            "15/15 [==============================] - 1s 66ms/step - loss: 4.7491 - val_loss: 3.5135\n",
            "Epoch 6/120\n",
            "15/15 [==============================] - 1s 41ms/step - loss: 4.3528 - val_loss: 2.7489\n",
            "Epoch 7/120\n",
            "15/15 [==============================] - 1s 41ms/step - loss: 3.5862 - val_loss: 2.7278\n",
            "Epoch 8/120\n",
            "15/15 [==============================] - 1s 41ms/step - loss: 2.3609 - val_loss: 1.8137\n",
            "Epoch 9/120\n",
            "15/15 [==============================] - 1s 40ms/step - loss: 1.9218 - val_loss: 1.7898\n",
            "Epoch 10/120\n",
            "15/15 [==============================] - 1s 42ms/step - loss: 1.6255 - val_loss: 1.6673\n",
            "Epoch 11/120\n",
            "15/15 [==============================] - 1s 39ms/step - loss: 1.5380 - val_loss: 1.4833\n",
            "Epoch 12/120\n",
            "15/15 [==============================] - 1s 40ms/step - loss: 1.4881 - val_loss: 1.4571\n",
            "Epoch 13/120\n",
            "15/15 [==============================] - 1s 41ms/step - loss: 1.1548 - val_loss: 1.3726\n",
            "Epoch 14/120\n",
            "15/15 [==============================] - 1s 40ms/step - loss: 1.1532 - val_loss: 1.4746\n",
            "Epoch 15/120\n",
            "15/15 [==============================] - 1s 41ms/step - loss: 1.2489 - val_loss: 1.4410\n",
            "Epoch 16/120\n",
            "15/15 [==============================] - 1s 40ms/step - loss: 1.1309 - val_loss: 1.6269\n",
            "Epoch 17/120\n",
            "15/15 [==============================] - 1s 42ms/step - loss: 1.2318 - val_loss: 1.3989\n",
            "Epoch 18/120\n",
            "15/15 [==============================] - 1s 42ms/step - loss: 1.0919 - val_loss: 1.2658\n",
            "Epoch 19/120\n",
            "15/15 [==============================] - 1s 42ms/step - loss: 1.2199 - val_loss: 1.3831\n",
            "Epoch 20/120\n",
            "15/15 [==============================] - 1s 42ms/step - loss: 1.1521 - val_loss: 1.6034\n",
            "Epoch 21/120\n",
            "15/15 [==============================] - 1s 41ms/step - loss: 1.2879 - val_loss: 1.5298\n",
            "Epoch 22/120\n",
            "15/15 [==============================] - 1s 59ms/step - loss: 1.2418 - val_loss: 2.3046\n",
            "Epoch 23/120\n",
            "15/15 [==============================] - 1s 58ms/step - loss: 1.5679 - val_loss: 1.3110\n",
            "Epoch 24/120\n",
            "15/15 [==============================] - 1s 60ms/step - loss: 1.0575 - val_loss: 1.2773\n",
            "Epoch 25/120\n",
            "15/15 [==============================] - 1s 48ms/step - loss: 1.0312 - val_loss: 1.4305\n",
            "Epoch 26/120\n",
            "15/15 [==============================] - 1s 39ms/step - loss: 1.0280 - val_loss: 1.3984\n",
            "Epoch 27/120\n",
            "15/15 [==============================] - 1s 42ms/step - loss: 1.1258 - val_loss: 1.2812\n",
            "Epoch 28/120\n",
            "15/15 [==============================] - 1s 40ms/step - loss: 1.0329 - val_loss: 1.3442\n",
            "Epoch 29/120\n",
            "15/15 [==============================] - 1s 41ms/step - loss: 1.0382 - val_loss: 1.7394\n",
            "Epoch 30/120\n",
            "15/15 [==============================] - 1s 43ms/step - loss: 1.3299 - val_loss: 1.2530\n",
            "Epoch 31/120\n",
            "15/15 [==============================] - 1s 41ms/step - loss: 1.1804 - val_loss: 1.1429\n",
            "Epoch 32/120\n",
            "15/15 [==============================] - 1s 42ms/step - loss: 0.9883 - val_loss: 1.4098\n",
            "Epoch 33/120\n",
            "15/15 [==============================] - 1s 42ms/step - loss: 1.1334 - val_loss: 3.1076\n",
            "Epoch 34/120\n",
            "15/15 [==============================] - 1s 41ms/step - loss: 3.0048 - val_loss: 3.4891\n",
            "Epoch 35/120\n",
            "15/15 [==============================] - 1s 42ms/step - loss: 2.4950 - val_loss: 1.4705\n",
            "Epoch 36/120\n",
            "15/15 [==============================] - 1s 44ms/step - loss: 1.1645 - val_loss: 1.2732\n",
            "Epoch 37/120\n",
            "15/15 [==============================] - 1s 41ms/step - loss: 0.9661 - val_loss: 1.1024\n",
            "Epoch 38/120\n",
            "15/15 [==============================] - 1s 39ms/step - loss: 0.8980 - val_loss: 1.1074\n",
            "Epoch 39/120\n",
            "15/15 [==============================] - 1s 41ms/step - loss: 0.9402 - val_loss: 1.1757\n",
            "Epoch 40/120\n",
            "15/15 [==============================] - 1s 42ms/step - loss: 1.1275 - val_loss: 1.4275\n",
            "Epoch 41/120\n",
            "15/15 [==============================] - 1s 50ms/step - loss: 0.9852 - val_loss: 1.0789\n",
            "Epoch 42/120\n",
            "15/15 [==============================] - 1s 64ms/step - loss: 0.9973 - val_loss: 1.0999\n",
            "Epoch 43/120\n",
            "15/15 [==============================] - 1s 64ms/step - loss: 1.1661 - val_loss: 2.0885\n",
            "Epoch 44/120\n",
            "15/15 [==============================] - 1s 51ms/step - loss: 1.0682 - val_loss: 1.3382\n",
            "Epoch 45/120\n",
            "15/15 [==============================] - 1s 42ms/step - loss: 1.0971 - val_loss: 1.1443\n",
            "Epoch 46/120\n",
            "15/15 [==============================] - 1s 41ms/step - loss: 1.1120 - val_loss: 1.5966\n",
            "Epoch 47/120\n",
            "15/15 [==============================] - 1s 40ms/step - loss: 0.9778 - val_loss: 1.1710\n",
            "Epoch 48/120\n",
            "15/15 [==============================] - 1s 40ms/step - loss: 0.8563 - val_loss: 1.1080\n",
            "Epoch 49/120\n",
            "15/15 [==============================] - 1s 81ms/step - loss: 1.1030 - val_loss: 1.2835\n",
            "Epoch 50/120\n",
            "15/15 [==============================] - 1s 42ms/step - loss: 0.8236 - val_loss: 1.0611\n",
            "Epoch 51/120\n",
            "15/15 [==============================] - 1s 42ms/step - loss: 0.8668 - val_loss: 1.0102\n",
            "Epoch 52/120\n",
            "15/15 [==============================] - 1s 42ms/step - loss: 0.8724 - val_loss: 1.2924\n",
            "Epoch 53/120\n",
            "15/15 [==============================] - 1s 42ms/step - loss: 0.9967 - val_loss: 1.0584\n",
            "Epoch 54/120\n",
            "15/15 [==============================] - 1s 43ms/step - loss: 0.7865 - val_loss: 1.2127\n",
            "Epoch 55/120\n",
            "15/15 [==============================] - 1s 41ms/step - loss: 0.7921 - val_loss: 0.9922\n",
            "Epoch 56/120\n",
            "15/15 [==============================] - 1s 41ms/step - loss: 0.8973 - val_loss: 1.1934\n",
            "Epoch 57/120\n",
            "15/15 [==============================] - 1s 41ms/step - loss: 1.0115 - val_loss: 1.1909\n",
            "Epoch 58/120\n",
            "15/15 [==============================] - 1s 44ms/step - loss: 0.8274 - val_loss: 1.6455\n",
            "Epoch 59/120\n",
            "15/15 [==============================] - 1s 48ms/step - loss: 1.0695 - val_loss: 2.8804\n",
            "Epoch 60/120\n",
            "15/15 [==============================] - 1s 66ms/step - loss: 1.4325 - val_loss: 2.8257\n",
            "Epoch 61/120\n",
            "15/15 [==============================] - 1s 67ms/step - loss: 1.9343 - val_loss: 1.2752\n",
            "Epoch 62/120\n",
            "15/15 [==============================] - 1s 56ms/step - loss: 1.1412 - val_loss: 1.0145\n",
            "Epoch 63/120\n",
            "15/15 [==============================] - 1s 41ms/step - loss: 1.0501 - val_loss: 2.2059\n",
            "Epoch 64/120\n",
            "15/15 [==============================] - 1s 41ms/step - loss: 1.8356 - val_loss: 1.1605\n",
            "Epoch 65/120\n",
            "15/15 [==============================] - 1s 41ms/step - loss: 1.5536 - val_loss: 1.0341\n",
            "Epoch 66/120\n",
            "15/15 [==============================] - 1s 42ms/step - loss: 0.8415 - val_loss: 0.9382\n",
            "Epoch 67/120\n",
            "15/15 [==============================] - 1s 42ms/step - loss: 0.8030 - val_loss: 0.8896\n",
            "Epoch 68/120\n",
            "15/15 [==============================] - 1s 39ms/step - loss: 0.7560 - val_loss: 0.8752\n",
            "Epoch 69/120\n",
            "15/15 [==============================] - 1s 39ms/step - loss: 0.7450 - val_loss: 1.3662\n",
            "Epoch 70/120\n",
            "15/15 [==============================] - 1s 40ms/step - loss: 0.8394 - val_loss: 1.0152\n",
            "Epoch 71/120\n",
            "15/15 [==============================] - 1s 39ms/step - loss: 0.7965 - val_loss: 1.0265\n",
            "Epoch 72/120\n",
            "15/15 [==============================] - 1s 39ms/step - loss: 0.7651 - val_loss: 0.8884\n",
            "Epoch 73/120\n",
            "15/15 [==============================] - 1s 40ms/step - loss: 0.7129 - val_loss: 0.8475\n",
            "Epoch 74/120\n",
            "15/15 [==============================] - 1s 39ms/step - loss: 0.6250 - val_loss: 0.9565\n",
            "Epoch 75/120\n",
            "15/15 [==============================] - 1s 39ms/step - loss: 1.0046 - val_loss: 2.0815\n",
            "Epoch 76/120\n",
            "15/15 [==============================] - 1s 40ms/step - loss: 1.0245 - val_loss: 0.8686\n",
            "Epoch 77/120\n",
            "15/15 [==============================] - 1s 40ms/step - loss: 0.7046 - val_loss: 0.9639\n",
            "Epoch 78/120\n",
            "15/15 [==============================] - 1s 43ms/step - loss: 0.9816 - val_loss: 1.5817\n",
            "Epoch 79/120\n",
            "15/15 [==============================] - 1s 59ms/step - loss: 0.8259 - val_loss: 1.2927\n",
            "Epoch 80/120\n",
            "15/15 [==============================] - 1s 67ms/step - loss: 0.7233 - val_loss: 0.9521\n",
            "Epoch 81/120\n",
            "15/15 [==============================] - 1s 67ms/step - loss: 0.7969 - val_loss: 1.6693\n",
            "Epoch 82/120\n",
            "15/15 [==============================] - 1s 45ms/step - loss: 0.7606 - val_loss: 1.1046\n",
            "Epoch 83/120\n",
            "15/15 [==============================] - 1s 42ms/step - loss: 0.6323 - val_loss: 0.7539\n",
            "Epoch 84/120\n",
            "15/15 [==============================] - 1s 41ms/step - loss: 0.7397 - val_loss: 1.2320\n",
            "Epoch 85/120\n",
            "15/15 [==============================] - 1s 41ms/step - loss: 0.8239 - val_loss: 0.8250\n",
            "Epoch 86/120\n",
            "15/15 [==============================] - 1s 44ms/step - loss: 0.5764 - val_loss: 0.8284\n",
            "Epoch 87/120\n",
            "15/15 [==============================] - 1s 42ms/step - loss: 0.6089 - val_loss: 1.1510\n",
            "Epoch 88/120\n",
            "15/15 [==============================] - 1s 41ms/step - loss: 0.6062 - val_loss: 0.9076\n",
            "Epoch 89/120\n",
            "15/15 [==============================] - 1s 40ms/step - loss: 0.7148 - val_loss: 1.0964\n",
            "Epoch 90/120\n",
            "15/15 [==============================] - 1s 43ms/step - loss: 0.6775 - val_loss: 0.9232\n",
            "Epoch 91/120\n",
            "15/15 [==============================] - 1s 45ms/step - loss: 0.8092 - val_loss: 1.4746\n",
            "Epoch 92/120\n",
            "15/15 [==============================] - 1s 43ms/step - loss: 0.6621 - val_loss: 1.0702\n",
            "Epoch 93/120\n",
            "15/15 [==============================] - 1s 45ms/step - loss: 1.1099 - val_loss: 0.9152\n",
            "Epoch 94/120\n",
            "15/15 [==============================] - 1s 42ms/step - loss: 0.8689 - val_loss: 0.9615\n",
            "Epoch 95/120\n",
            "15/15 [==============================] - 1s 44ms/step - loss: 0.6900 - val_loss: 0.9080\n",
            "Epoch 96/120\n",
            "15/15 [==============================] - 1s 39ms/step - loss: 0.8057 - val_loss: 1.4684\n",
            "Epoch 97/120\n",
            "15/15 [==============================] - 1s 49ms/step - loss: 0.8340 - val_loss: 1.2557\n",
            "Epoch 98/120\n",
            "15/15 [==============================] - 1s 67ms/step - loss: 0.6948 - val_loss: 0.8150\n",
            "Epoch 99/120\n",
            "15/15 [==============================] - 1s 66ms/step - loss: 0.5118 - val_loss: 0.7706\n",
            "Epoch 100/120\n",
            "15/15 [==============================] - 1s 58ms/step - loss: 0.5945 - val_loss: 0.8039\n",
            "Epoch 101/120\n",
            "15/15 [==============================] - 1s 42ms/step - loss: 0.6935 - val_loss: 0.6869\n",
            "Epoch 102/120\n",
            "15/15 [==============================] - 1s 43ms/step - loss: 0.6424 - val_loss: 1.0874\n",
            "Epoch 103/120\n",
            "15/15 [==============================] - 1s 40ms/step - loss: 0.7529 - val_loss: 0.9153\n",
            "Epoch 104/120\n",
            "15/15 [==============================] - 1s 42ms/step - loss: 0.7378 - val_loss: 0.7837\n",
            "Epoch 105/120\n",
            "15/15 [==============================] - 1s 42ms/step - loss: 0.5503 - val_loss: 0.7098\n",
            "Epoch 106/120\n",
            "15/15 [==============================] - 1s 42ms/step - loss: 0.5419 - val_loss: 0.6150\n",
            "Epoch 107/120\n",
            "15/15 [==============================] - 1s 43ms/step - loss: 0.5325 - val_loss: 0.9769\n",
            "Epoch 108/120\n",
            "15/15 [==============================] - 1s 42ms/step - loss: 0.5547 - val_loss: 0.6822\n",
            "Epoch 109/120\n",
            "15/15 [==============================] - 1s 41ms/step - loss: 0.5062 - val_loss: 0.9329\n",
            "Epoch 110/120\n",
            "15/15 [==============================] - 1s 41ms/step - loss: 0.6144 - val_loss: 1.0069\n",
            "Epoch 111/120\n",
            "15/15 [==============================] - 1s 41ms/step - loss: 0.6531 - val_loss: 0.7214\n",
            "Epoch 112/120\n",
            "15/15 [==============================] - 1s 42ms/step - loss: 0.6081 - val_loss: 0.7915\n",
            "Epoch 113/120\n",
            "15/15 [==============================] - 1s 42ms/step - loss: 0.9542 - val_loss: 1.1723\n",
            "Epoch 114/120\n",
            "15/15 [==============================] - 1s 42ms/step - loss: 0.7142 - val_loss: 0.7365\n",
            "Epoch 115/120\n",
            "15/15 [==============================] - 1s 44ms/step - loss: 0.6129 - val_loss: 1.3991\n",
            "Epoch 116/120\n",
            "15/15 [==============================] - 1s 57ms/step - loss: 0.7545 - val_loss: 0.9545\n",
            "Epoch 117/120\n",
            "15/15 [==============================] - 1s 64ms/step - loss: 0.4449 - val_loss: 0.5810\n",
            "Epoch 118/120\n",
            "15/15 [==============================] - 1s 60ms/step - loss: 0.5274 - val_loss: 0.6976\n",
            "Epoch 119/120\n",
            "15/15 [==============================] - 1s 55ms/step - loss: 0.5218 - val_loss: 0.6488\n",
            "Epoch 120/120\n",
            "15/15 [==============================] - 1s 42ms/step - loss: 0.5020 - val_loss: 0.6060\n"
          ]
        }
      ]
    },
    {
      "cell_type": "code",
      "source": [
        "import matplotlib.pyplot as plt\n",
        "plt.plot(history.history['loss'])\n",
        "plt.plot(history.history['val_loss'])\n",
        "plt.legend(['Loss', 'Validation Loss'])\n",
        "plt.xlabel('Epochs')\n",
        "plt.ylabel('Loss')"
      ],
      "metadata": {
        "colab": {
          "base_uri": "https://localhost:8080/",
          "height": 466
        },
        "id": "craV5hnGipNo",
        "outputId": "71417d8f-49ae-4ca8-fcb8-8a78ccfc637b"
      },
      "execution_count": 63,
      "outputs": [
        {
          "output_type": "execute_result",
          "data": {
            "text/plain": [
              "Text(0, 0.5, 'Loss')"
            ]
          },
          "metadata": {},
          "execution_count": 63
        },
        {
          "output_type": "display_data",
          "data": {
            "text/plain": [
              "<Figure size 640x480 with 1 Axes>"
            ],
            "image/png": "[encoded data removed]"
          },
          "metadata": {}
        }
      ]
    },
    {
      "cell_type": "code",
      "source": [
        "def plot_diff(y_true, y_pred, title=''):\n",
        "    plt.figure(figsize=(4,4),dpi=120)\n",
        "    plt.scatter(y_true, y_pred,color='blue')\n",
        "    plt.title(title)\n",
        "    plt.xlabel('True')\n",
        "    plt.ylabel('Predictions')\n",
        "    plt.axis('equal')\n",
        "    plt.axis('square')\n",
        "    plt.xlim(plt.xlim())\n",
        "    plt.ylim(plt.ylim())\n",
        "    #plt.plot([-10, 40], [-10, 40],color='red')\n",
        "    plt.grid(color = 'black', linestyle = '-', linewidth = 0.5)\n",
        "    plt.show()\n",
        "y_pred = model.predict(x_test)\n",
        "plot_diff(y_test, y_pred, title='True Vs predicted')"
      ],
      "metadata": {
        "colab": {
          "base_uri": "https://localhost:8080/",
          "height": 506
        },
        "id": "fSOji5QmnrUz",
        "outputId": "205ddbd6-d928-42fc-8875-59c6597a9287"
      },
      "execution_count": 64,
      "outputs": [
        {
          "output_type": "stream",
          "name": "stdout",
          "text": [
            "5/5 [==============================] - 0s 7ms/step\n"
          ]
        },
        {
          "output_type": "display_data",
          "data": {
            "text/plain": [
              "<Figure size 480x480 with 1 Axes>"
            ],
            "image/png": "[encoded data removed]"
          },
          "metadata": {}
        }
      ]
    },
    {
      "cell_type": "code",
      "source": [
        "#X_random_sample = np.array([[1, 55, 65000, 11600, 562341]])\n",
        "#y_predict = model.predict(X_random_sample)"
      ],
      "metadata": {
        "id": "sQb1LmYdkQqA"
      },
      "execution_count": 65,
      "outputs": []
    },
    {
      "cell_type": "code",
      "source": [
        "data2.drop(['Doi'],inplace=True,axis=1)\n",
        "#data=data.drop('Doi',axis=True)"
      ],
      "metadata": {
        "id": "rbEJnvZSoh3v"
      },
      "execution_count": 66,
      "outputs": []
    },
    {
      "cell_type": "code",
      "execution_count": 67,
      "metadata": {
        "id": "d4UEiVwEowS0"
      },
      "outputs": [],
      "source": [
        "data2=data2.replace({'e':0,'d':1})"
      ]
    },
    {
      "cell_type": "code",
      "source": [
        "y=data2['Depth per pulse(micrometer/pulse)']"
      ],
      "metadata": {
        "id": "DMLooJzPo6oo"
      },
      "execution_count": 68,
      "outputs": []
    },
    {
      "cell_type": "code",
      "source": [
        "x=data2.iloc[:,0:6]"
      ],
      "metadata": {
        "id": "fRpj7YVSo9n2"
      },
      "execution_count": 69,
      "outputs": []
    },
    {
      "cell_type": "code",
      "source": [
        "from sklearn import preprocessing\n",
        "lab_enc = preprocessing.LabelEncoder()\n",
        "y = lab_enc.fit_transform(y)"
      ],
      "metadata": {
        "id": "msmt0-gXpDaP"
      },
      "execution_count": 70,
      "outputs": []
    },
    {
      "cell_type": "code",
      "source": [
        "from sklearn.preprocessing import MinMaxScaler\n",
        "scaler = MinMaxScaler(feature_range=(0,1))\n",
        "x = scaler.fit_transform(x)"
      ],
      "metadata": {
        "id": "oDKKgxUGpF0H"
      },
      "execution_count": 71,
      "outputs": []
    },
    {
      "cell_type": "code",
      "source": [
        "x_train, x_test, y_train, y_test = train_test_split(x,y, test_size = 0.2, random_state = 42)"
      ],
      "metadata": {
        "id": "tMrEpRS9pLEc"
      },
      "execution_count": 72,
      "outputs": []
    },
    {
      "cell_type": "code",
      "source": [
        "method_names=[] \n",
        "method_scores=[]"
      ],
      "metadata": {
        "id": "02F1HqfopPcm"
      },
      "execution_count": 73,
      "outputs": []
    },
    {
      "cell_type": "code",
      "source": [
        "from sklearn.linear_model import LogisticRegression\n",
        "log_reg = LogisticRegression()\n",
        "log_reg.fit(x_train, y_train) #Fitting\n",
        "print(\"Logistic Regression Classification Test Accuracy {}\".format(log_reg.score(x_test,y_test)))\n",
        "#method_names.append(\"Logistic regression\")\n",
        "#method_scores.append(model.score(x_test,y_test))\n",
        "y_pred = log_reg.predict(x_test)"
      ],
      "metadata": {
        "colab": {
          "base_uri": "https://localhost:8080/"
        },
        "id": "m5r4a1n7pSP0",
        "outputId": "0768be8f-35d1-4686-e6fa-816cc9f978d3"
      },
      "execution_count": 74,
      "outputs": [
        {
          "output_type": "stream",
          "name": "stdout",
          "text": [
            "Logistic Regression Classification Test Accuracy 0.460431654676259\n"
          ]
        }
      ]
    },
    {
      "cell_type": "code",
      "source": [
        "from sklearn.svm import SVC\n",
        "svm = SVC(random_state=42)\n",
        "svm.fit(x_train,y_train)\n",
        "print(\"SVM Classification Score is: {}\".format(svm.score(x_test,y_test)))\n",
        "#method_names.append(\"SVM\")\n",
        "#method_scores.append(model.score(x_test,y_test))\n",
        "#Confusion Matrix\n",
        "#y_pred = svm.predict(x_test)"
      ],
      "metadata": {
        "colab": {
          "base_uri": "https://localhost:8080/"
        },
        "id": "ah8T0zNhpV1H",
        "outputId": "76aeece3-f1c5-4bee-b006-df0e5c398868"
      },
      "execution_count": 75,
      "outputs": [
        {
          "output_type": "stream",
          "name": "stdout",
          "text": [
            "SVM Classification Score is: 0.6258992805755396\n"
          ]
        }
      ]
    },
    {
      "cell_type": "code",
      "source": [
        "from sklearn.linear_model import LinearRegression\n",
        "model = LinearRegression()\n",
        "model.fit(x_train,y_train)\n",
        "print(\"linear reg: {}\".format(model.score(x_test,y_test)))\n",
        "#method_names.append(\"Linear regression\")\n",
        "#method_scores.append(model.score(x_test,y_test))\n",
        "#y_pred = model.predict(x_test)"
      ],
      "metadata": {
        "colab": {
          "base_uri": "https://localhost:8080/"
        },
        "id": "gwHJKnrJpYgS",
        "outputId": "a861483b-5a2f-4149-fbec-958f57a5f09d"
      },
      "execution_count": 76,
      "outputs": [
        {
          "output_type": "stream",
          "name": "stdout",
          "text": [
            "linear reg: 0.6365758889263226\n"
          ]
        }
      ]
    },
    {
      "cell_type": "code",
      "source": [
        "#plt.figure(figsize=(4,4))\n",
        "#plt.ylim([0,1])\n",
        "#plt.bar(method_names,method_scores,width=0.7,color='navy')\n",
        "#plt.xlabel('Method')\n",
        "#plt.ylabel('Accuracy')\n",
        "#plt.grid(color = 'black', linestyle = '-', linewidth = 0.5)\n",
        "#plt.show()"
      ],
      "metadata": {
        "id": "-piPVcY-pat0"
      },
      "execution_count": 77,
      "outputs": []
    },
    {
      "cell_type": "code",
      "source": [
        "#ANN\n",
        "import tensorflow.keras\n",
        "from tensorflow.keras.models import Sequential\n",
        "from tensorflow.keras.layers import Dense\n",
        "model=Sequential()\n",
        "model.add(Dense(1024,activation='relu',input_dim=x_train.shape[1]))\n",
        "model.add(Dense(1024,activation='relu'))\n",
        "model.add(Dense(512,activation='relu'))\n",
        "model.add(Dense(512,activation='relu'))\n",
        "model.add(Dense(512,activation='relu'))\n",
        "model.add(Dense(256,activation='relu'))\n",
        "model.add(Dense(1,activation='linear'))\n",
        "model.summary()"
      ],
      "metadata": {
        "colab": {
          "base_uri": "https://localhost:8080/"
        },
        "id": "wH1S3HqrphqR",
        "outputId": "4beecbe3-13e6-40ca-da24-e65318eaec0b"
      },
      "execution_count": 78,
      "outputs": [
        {
          "output_type": "stream",
          "name": "stdout",
          "text": [
            "Model: \"sequential_2\"\n",
            "_________________________________________________________________\n",
            " Layer (type)                Output Shape              Param #   \n",
            "=================================================================\n",
            " dense_14 (Dense)            (None, 1024)              7168      \n",
            "                                                                 \n",
            " dense_15 (Dense)            (None, 1024)              1049600   \n",
            "                                                                 \n",
            " dense_16 (Dense)            (None, 512)               524800    \n",
            "                                                                 \n",
            " dense_17 (Dense)            (None, 512)               262656    \n",
            "                                                                 \n",
            " dense_18 (Dense)            (None, 512)               262656    \n",
            "                                                                 \n",
            " dense_19 (Dense)            (None, 256)               131328    \n",
            "                                                                 \n",
            " dense_20 (Dense)            (None, 1)                 257       \n",
            "                                                                 \n",
            "=================================================================\n",
            "Total params: 2,238,465\n",
            "Trainable params: 2,238,465\n",
            "Non-trainable params: 0\n",
            "_________________________________________________________________\n"
          ]
        }
      ]
    },
    {
      "cell_type": "code",
      "source": [
        "model.compile(optimizer='adam',loss='mean_squared_error')\n",
        "history=model.fit(x_train,y_train,epochs=120,validation_split=0.2)"
      ],
      "metadata": {
        "colab": {
          "base_uri": "https://localhost:8080/"
        },
        "id": "P5Fsx1p4qJ9p",
        "outputId": "bbbd1200-5907-41c4-c408-4633441afe29"
      },
      "execution_count": 79,
      "outputs": [
        {
          "output_type": "stream",
          "name": "stdout",
          "text": [
            "Epoch 1/120\n",
            "14/14 [==============================] - 2s 50ms/step - loss: 231.3037 - val_loss: 80.7570\n",
            "Epoch 2/120\n",
            "14/14 [==============================] - 1s 43ms/step - loss: 82.5170 - val_loss: 73.3314\n",
            "Epoch 3/120\n",
            "14/14 [==============================] - 1s 41ms/step - loss: 56.6578 - val_loss: 51.6771\n",
            "Epoch 4/120\n",
            "14/14 [==============================] - 1s 42ms/step - loss: 48.9997 - val_loss: 43.2133\n",
            "Epoch 5/120\n",
            "14/14 [==============================] - 1s 41ms/step - loss: 42.1396 - val_loss: 35.0740\n",
            "Epoch 6/120\n",
            "14/14 [==============================] - 1s 41ms/step - loss: 37.5850 - val_loss: 27.0305\n",
            "Epoch 7/120\n",
            "14/14 [==============================] - 1s 41ms/step - loss: 25.5903 - val_loss: 23.5865\n",
            "Epoch 8/120\n",
            "14/14 [==============================] - 1s 39ms/step - loss: 17.9217 - val_loss: 11.9748\n",
            "Epoch 9/120\n",
            "14/14 [==============================] - 1s 40ms/step - loss: 15.0002 - val_loss: 12.9590\n",
            "Epoch 10/120\n",
            "14/14 [==============================] - 1s 39ms/step - loss: 11.7807 - val_loss: 7.9643\n",
            "Epoch 11/120\n",
            "14/14 [==============================] - 1s 58ms/step - loss: 7.3412 - val_loss: 5.9786\n",
            "Epoch 12/120\n",
            "14/14 [==============================] - 1s 62ms/step - loss: 6.7983 - val_loss: 5.8973\n",
            "Epoch 13/120\n",
            "14/14 [==============================] - 1s 60ms/step - loss: 8.3953 - val_loss: 8.9689\n",
            "Epoch 14/120\n",
            "14/14 [==============================] - 1s 51ms/step - loss: 8.1268 - val_loss: 4.1116\n",
            "Epoch 15/120\n",
            "14/14 [==============================] - 1s 41ms/step - loss: 4.1768 - val_loss: 3.4245\n",
            "Epoch 16/120\n",
            "14/14 [==============================] - 1s 40ms/step - loss: 4.1252 - val_loss: 5.3508\n",
            "Epoch 17/120\n",
            "14/14 [==============================] - 1s 43ms/step - loss: 4.1698 - val_loss: 4.1772\n",
            "Epoch 18/120\n",
            "14/14 [==============================] - 1s 42ms/step - loss: 3.3744 - val_loss: 4.4957\n",
            "Epoch 19/120\n",
            "14/14 [==============================] - 1s 40ms/step - loss: 3.6743 - val_loss: 3.4229\n",
            "Epoch 20/120\n",
            "14/14 [==============================] - 1s 41ms/step - loss: 3.1284 - val_loss: 3.1046\n",
            "Epoch 21/120\n",
            "14/14 [==============================] - 1s 38ms/step - loss: 3.1080 - val_loss: 2.7288\n",
            "Epoch 22/120\n",
            "14/14 [==============================] - 1s 44ms/step - loss: 2.9899 - val_loss: 2.1930\n",
            "Epoch 23/120\n",
            "14/14 [==============================] - 1s 40ms/step - loss: 2.6474 - val_loss: 2.2490\n",
            "Epoch 24/120\n",
            "14/14 [==============================] - 1s 41ms/step - loss: 3.0073 - val_loss: 4.2842\n",
            "Epoch 25/120\n",
            "14/14 [==============================] - 1s 43ms/step - loss: 2.7985 - val_loss: 2.8710\n",
            "Epoch 26/120\n",
            "14/14 [==============================] - 1s 40ms/step - loss: 2.7262 - val_loss: 3.8438\n",
            "Epoch 27/120\n",
            "14/14 [==============================] - 1s 40ms/step - loss: 4.6218 - val_loss: 4.1717\n",
            "Epoch 28/120\n",
            "14/14 [==============================] - 1s 41ms/step - loss: 2.5500 - val_loss: 2.7142\n",
            "Epoch 29/120\n",
            "14/14 [==============================] - 1s 44ms/step - loss: 2.7634 - val_loss: 3.2771\n",
            "Epoch 30/120\n",
            "14/14 [==============================] - 1s 40ms/step - loss: 3.3436 - val_loss: 2.6661\n",
            "Epoch 31/120\n",
            "14/14 [==============================] - 1s 44ms/step - loss: 2.4498 - val_loss: 2.2016\n",
            "Epoch 32/120\n",
            "14/14 [==============================] - 1s 66ms/step - loss: 2.4887 - val_loss: 3.1237\n",
            "Epoch 33/120\n",
            "14/14 [==============================] - 1s 64ms/step - loss: 2.5497 - val_loss: 2.5607\n",
            "Epoch 34/120\n",
            "14/14 [==============================] - 1s 64ms/step - loss: 2.8836 - val_loss: 2.4976\n",
            "Epoch 35/120\n",
            "14/14 [==============================] - 1s 40ms/step - loss: 2.3083 - val_loss: 2.8855\n",
            "Epoch 36/120\n",
            "14/14 [==============================] - 1s 42ms/step - loss: 1.8847 - val_loss: 1.9679\n",
            "Epoch 37/120\n",
            "14/14 [==============================] - 1s 41ms/step - loss: 2.0399 - val_loss: 2.1609\n",
            "Epoch 38/120\n",
            "14/14 [==============================] - 1s 40ms/step - loss: 2.2741 - val_loss: 2.5190\n",
            "Epoch 39/120\n",
            "14/14 [==============================] - 1s 41ms/step - loss: 2.6517 - val_loss: 1.9649\n",
            "Epoch 40/120\n",
            "14/14 [==============================] - 1s 43ms/step - loss: 3.9878 - val_loss: 12.9661\n",
            "Epoch 41/120\n",
            "14/14 [==============================] - 1s 41ms/step - loss: 11.4061 - val_loss: 15.3036\n",
            "Epoch 42/120\n",
            "14/14 [==============================] - 1s 42ms/step - loss: 5.6313 - val_loss: 4.1381\n",
            "Epoch 43/120\n",
            "14/14 [==============================] - 1s 45ms/step - loss: 3.2965 - val_loss: 2.3051\n",
            "Epoch 44/120\n",
            "14/14 [==============================] - 1s 40ms/step - loss: 1.9468 - val_loss: 2.4595\n",
            "Epoch 45/120\n",
            "14/14 [==============================] - 1s 41ms/step - loss: 2.0367 - val_loss: 1.8629\n",
            "Epoch 46/120\n",
            "14/14 [==============================] - 1s 40ms/step - loss: 2.3116 - val_loss: 2.3858\n",
            "Epoch 47/120\n",
            "14/14 [==============================] - 1s 41ms/step - loss: 2.2491 - val_loss: 2.8499\n",
            "Epoch 48/120\n",
            "14/14 [==============================] - 1s 40ms/step - loss: 2.6761 - val_loss: 2.8925\n",
            "Epoch 49/120\n",
            "14/14 [==============================] - 1s 39ms/step - loss: 2.2130 - val_loss: 2.1984\n",
            "Epoch 50/120\n",
            "14/14 [==============================] - 1s 39ms/step - loss: 2.6464 - val_loss: 3.6646\n",
            "Epoch 51/120\n",
            "14/14 [==============================] - 1s 40ms/step - loss: 2.4307 - val_loss: 2.8150\n",
            "Epoch 52/120\n",
            "14/14 [==============================] - 1s 50ms/step - loss: 3.0825 - val_loss: 5.0354\n",
            "Epoch 53/120\n",
            "14/14 [==============================] - 1s 64ms/step - loss: 4.0513 - val_loss: 6.4673\n",
            "Epoch 54/120\n",
            "14/14 [==============================] - 1s 65ms/step - loss: 5.0145 - val_loss: 7.4980\n",
            "Epoch 55/120\n",
            "14/14 [==============================] - 1s 65ms/step - loss: 4.3490 - val_loss: 3.5085\n",
            "Epoch 56/120\n",
            "14/14 [==============================] - 1s 42ms/step - loss: 3.4534 - val_loss: 4.3529\n",
            "Epoch 57/120\n",
            "14/14 [==============================] - 1s 41ms/step - loss: 3.3295 - val_loss: 2.4442\n",
            "Epoch 58/120\n",
            "14/14 [==============================] - 1s 39ms/step - loss: 2.6426 - val_loss: 1.8905\n",
            "Epoch 59/120\n",
            "14/14 [==============================] - 1s 39ms/step - loss: 1.6364 - val_loss: 2.0724\n",
            "Epoch 60/120\n",
            "14/14 [==============================] - 1s 43ms/step - loss: 1.6494 - val_loss: 1.7559\n",
            "Epoch 61/120\n",
            "14/14 [==============================] - 1s 41ms/step - loss: 1.5982 - val_loss: 1.6049\n",
            "Epoch 62/120\n",
            "14/14 [==============================] - 1s 41ms/step - loss: 1.7193 - val_loss: 1.7649\n",
            "Epoch 63/120\n",
            "14/14 [==============================] - 1s 40ms/step - loss: 1.9227 - val_loss: 2.5045\n",
            "Epoch 64/120\n",
            "14/14 [==============================] - 1s 40ms/step - loss: 1.9046 - val_loss: 2.4292\n",
            "Epoch 65/120\n",
            "14/14 [==============================] - 1s 41ms/step - loss: 1.6953 - val_loss: 1.5748\n",
            "Epoch 66/120\n",
            "14/14 [==============================] - 1s 45ms/step - loss: 1.4763 - val_loss: 1.5662\n",
            "Epoch 67/120\n",
            "14/14 [==============================] - 1s 41ms/step - loss: 1.5952 - val_loss: 1.8889\n",
            "Epoch 68/120\n",
            "14/14 [==============================] - 1s 40ms/step - loss: 2.0564 - val_loss: 1.7385\n",
            "Epoch 69/120\n",
            "14/14 [==============================] - 1s 41ms/step - loss: 1.8502 - val_loss: 1.7992\n",
            "Epoch 70/120\n",
            "14/14 [==============================] - 1s 40ms/step - loss: 1.9416 - val_loss: 2.4212\n",
            "Epoch 71/120\n",
            "14/14 [==============================] - 1s 41ms/step - loss: 1.5696 - val_loss: 1.9791\n",
            "Epoch 72/120\n",
            "14/14 [==============================] - 1s 44ms/step - loss: 1.4869 - val_loss: 1.9140\n",
            "Epoch 73/120\n",
            "14/14 [==============================] - 1s 61ms/step - loss: 1.6814 - val_loss: 1.8816\n",
            "Epoch 74/120\n",
            "14/14 [==============================] - 1s 64ms/step - loss: 1.6034 - val_loss: 2.4810\n",
            "Epoch 75/120\n",
            "14/14 [==============================] - 1s 61ms/step - loss: 2.0952 - val_loss: 1.6013\n",
            "Epoch 76/120\n",
            "14/14 [==============================] - 1s 53ms/step - loss: 1.6623 - val_loss: 1.9332\n",
            "Epoch 77/120\n",
            "14/14 [==============================] - 1s 41ms/step - loss: 1.5659 - val_loss: 2.0422\n",
            "Epoch 78/120\n",
            "14/14 [==============================] - 1s 42ms/step - loss: 1.8519 - val_loss: 1.9188\n",
            "Epoch 79/120\n",
            "14/14 [==============================] - 1s 46ms/step - loss: 1.3979 - val_loss: 1.8253\n",
            "Epoch 80/120\n",
            "14/14 [==============================] - 1s 39ms/step - loss: 1.9473 - val_loss: 3.4905\n",
            "Epoch 81/120\n",
            "14/14 [==============================] - 1s 40ms/step - loss: 2.0898 - val_loss: 1.8318\n",
            "Epoch 82/120\n",
            "14/14 [==============================] - 1s 38ms/step - loss: 2.0193 - val_loss: 2.7057\n",
            "Epoch 83/120\n",
            "14/14 [==============================] - 1s 42ms/step - loss: 1.7232 - val_loss: 1.6396\n",
            "Epoch 84/120\n",
            "14/14 [==============================] - 1s 44ms/step - loss: 1.4406 - val_loss: 1.5349\n",
            "Epoch 85/120\n",
            "14/14 [==============================] - 1s 39ms/step - loss: 1.6760 - val_loss: 2.0032\n",
            "Epoch 86/120\n",
            "14/14 [==============================] - 1s 40ms/step - loss: 1.3827 - val_loss: 1.4896\n",
            "Epoch 87/120\n",
            "14/14 [==============================] - 1s 40ms/step - loss: 1.4756 - val_loss: 2.0760\n",
            "Epoch 88/120\n",
            "14/14 [==============================] - 1s 40ms/step - loss: 1.8322 - val_loss: 1.6330\n",
            "Epoch 89/120\n",
            "14/14 [==============================] - 1s 40ms/step - loss: 1.6048 - val_loss: 1.5001\n",
            "Epoch 90/120\n",
            "14/14 [==============================] - 1s 39ms/step - loss: 1.8122 - val_loss: 1.8702\n",
            "Epoch 91/120\n",
            "14/14 [==============================] - 1s 40ms/step - loss: 1.4943 - val_loss: 1.6021\n",
            "Epoch 92/120\n",
            "14/14 [==============================] - 1s 41ms/step - loss: 1.5752 - val_loss: 1.4518\n",
            "Epoch 93/120\n",
            "14/14 [==============================] - 1s 41ms/step - loss: 1.6755 - val_loss: 2.4384\n",
            "Epoch 94/120\n",
            "14/14 [==============================] - 1s 61ms/step - loss: 2.2942 - val_loss: 2.2522\n",
            "Epoch 95/120\n",
            "14/14 [==============================] - 1s 62ms/step - loss: 1.5439 - val_loss: 1.6545\n",
            "Epoch 96/120\n",
            "14/14 [==============================] - 1s 62ms/step - loss: 1.2975 - val_loss: 1.7135\n",
            "Epoch 97/120\n",
            "14/14 [==============================] - 1s 50ms/step - loss: 1.3331 - val_loss: 1.4851\n",
            "Epoch 98/120\n",
            "14/14 [==============================] - 1s 41ms/step - loss: 1.4374 - val_loss: 1.6913\n",
            "Epoch 99/120\n",
            "14/14 [==============================] - 1s 40ms/step - loss: 1.7578 - val_loss: 1.7894\n",
            "Epoch 100/120\n",
            "14/14 [==============================] - 1s 39ms/step - loss: 1.5194 - val_loss: 1.7653\n",
            "Epoch 101/120\n",
            "14/14 [==============================] - 1s 41ms/step - loss: 1.3480 - val_loss: 1.6547\n",
            "Epoch 102/120\n",
            "14/14 [==============================] - 1s 40ms/step - loss: 1.7529 - val_loss: 2.9837\n",
            "Epoch 103/120\n",
            "14/14 [==============================] - 1s 41ms/step - loss: 1.6004 - val_loss: 2.8682\n",
            "Epoch 104/120\n",
            "14/14 [==============================] - 1s 41ms/step - loss: 1.8247 - val_loss: 1.6155\n",
            "Epoch 105/120\n",
            "14/14 [==============================] - 1s 43ms/step - loss: 1.7046 - val_loss: 2.2515\n",
            "Epoch 106/120\n",
            "14/14 [==============================] - 1s 42ms/step - loss: 1.6172 - val_loss: 1.6889\n",
            "Epoch 107/120\n",
            "14/14 [==============================] - 1s 41ms/step - loss: 1.5246 - val_loss: 1.5224\n",
            "Epoch 108/120\n",
            "14/14 [==============================] - 1s 41ms/step - loss: 1.4392 - val_loss: 1.5893\n",
            "Epoch 109/120\n",
            "14/14 [==============================] - 1s 42ms/step - loss: 1.5461 - val_loss: 1.7596\n",
            "Epoch 110/120\n",
            "14/14 [==============================] - 1s 42ms/step - loss: 1.5976 - val_loss: 1.7336\n",
            "Epoch 111/120\n",
            "14/14 [==============================] - 1s 41ms/step - loss: 2.3812 - val_loss: 3.0519\n",
            "Epoch 112/120\n",
            "14/14 [==============================] - 1s 44ms/step - loss: 1.6773 - val_loss: 2.1687\n",
            "Epoch 113/120\n",
            "14/14 [==============================] - 1s 41ms/step - loss: 1.4787 - val_loss: 1.7054\n",
            "Epoch 114/120\n",
            "14/14 [==============================] - 1s 49ms/step - loss: 1.5183 - val_loss: 2.4701\n",
            "Epoch 115/120\n",
            "14/14 [==============================] - 1s 64ms/step - loss: 1.5653 - val_loss: 1.5715\n",
            "Epoch 116/120\n",
            "14/14 [==============================] - 1s 64ms/step - loss: 1.7049 - val_loss: 1.6122\n",
            "Epoch 117/120\n",
            "14/14 [==============================] - 1s 63ms/step - loss: 1.7221 - val_loss: 1.5448\n",
            "Epoch 118/120\n",
            "14/14 [==============================] - 1s 41ms/step - loss: 1.3531 - val_loss: 1.5575\n",
            "Epoch 119/120\n",
            "14/14 [==============================] - 1s 42ms/step - loss: 1.3066 - val_loss: 1.4939\n",
            "Epoch 120/120\n",
            "14/14 [==============================] - 1s 43ms/step - loss: 1.5685 - val_loss: 1.7175\n"
          ]
        }
      ]
    },
    {
      "cell_type": "code",
      "source": [
        "import matplotlib.pyplot as plt\n",
        "plt.plot(history.history['loss'])\n",
        "plt.plot(history.history['val_loss'])\n",
        "plt.legend(['Loss', 'Validation Loss'])\n",
        "plt.xlabel('Epochs')\n",
        "plt.ylabel('Loss')"
      ],
      "metadata": {
        "colab": {
          "base_uri": "https://localhost:8080/",
          "height": 466
        },
        "id": "d1eGt99Spo6L",
        "outputId": "a6bf9698-cf0f-4e16-c302-5c761611349d"
      },
      "execution_count": 80,
      "outputs": [
        {
          "output_type": "execute_result",
          "data": {
            "text/plain": [
              "Text(0, 0.5, 'Loss')"
            ]
          },
          "metadata": {},
          "execution_count": 80
        },
        {
          "output_type": "display_data",
          "data": {
            "text/plain": [
              "<Figure size 640x480 with 1 Axes>"
            ],
            "image/png": "[encoded data removed]"
          },
          "metadata": {}
        }
      ]
    },
    {
      "cell_type": "code",
      "source": [
        "def plot_diff(y_true, y_pred, title=''):\n",
        "    plt.figure(figsize=(4,4),dpi=120)\n",
        "    plt.scatter(y_true, y_pred,color='blue')\n",
        "    plt.title(title)\n",
        "    plt.xlabel('True')\n",
        "    plt.ylabel('Predictions')\n",
        "    plt.axis('equal')\n",
        "    plt.axis('square')\n",
        "    plt.xlim(plt.xlim())\n",
        "    plt.ylim(plt.ylim())\n",
        "    #plt.plot([-10, 40], [-10, 40],color='red')\n",
        "    plt.grid(color = 'black', linestyle = '-', linewidth = 0.5)\n",
        "    plt.show()\n",
        "y_pred = model.predict(x_test)\n",
        "plot_diff(y_test, y_pred, title='True Vs predicted')"
      ],
      "metadata": {
        "colab": {
          "base_uri": "https://localhost:8080/",
          "height": 506
        },
        "id": "O_QIHbOQptgF",
        "outputId": "20ef7276-bbbc-48bc-b67d-ab39c25362c9"
      },
      "execution_count": 81,
      "outputs": [
        {
          "output_type": "stream",
          "name": "stdout",
          "text": [
            "5/5 [==============================] - 0s 6ms/step\n"
          ]
        },
        {
          "output_type": "display_data",
          "data": {
            "text/plain": [
              "<Figure size 480x480 with 1 Axes>"
            ],
            "image/png": "[encoded data removed]"
          },
          "metadata": {}
        }
      ]
    }
  ]
}